{
 "cells": [
  {
   "cell_type": "code",
   "execution_count": 98,
   "metadata": {},
   "outputs": [],
   "source": [
    "import pickle\n",
    "import matplotlib.pyplot as plt\n"
   ]
  },
  {
   "cell_type": "code",
   "execution_count": 144,
   "metadata": {},
   "outputs": [],
   "source": [
    "filename = \"../deep_cluster/cop_kmeans_clustering/clusters\"\n",
    "infile = open(filename,'rb')\n",
    "new_dict = pickle.load(infile)\n",
    "infile.close()"
   ]
  },
  {
   "cell_type": "code",
   "execution_count": 143,
   "metadata": {},
   "outputs": [],
   "source": [
    "from sklearn import manifold, datasets"
   ]
  },
  {
   "cell_type": "code",
   "execution_count": 141,
   "metadata": {},
   "outputs": [],
   "source": [
    "import numpy as np\n",
    "import pdb\n",
    "def index_2d(myList, v):\n",
    "    for i, x in enumerate(myList):\n",
    "        if v in x:\n",
    "            return (i, x.index(v))\n",
    "        \n",
    "def find_acc(clusters, length_exp, num_exposures, num_classes):\n",
    "    true = 0.0\n",
    "    for i in range(num_classes):\n",
    "        cluster_num = []\n",
    "        for j in range(num_exposures):\n",
    "#             pdb.set_trace()\n",
    "            cluster_num.append(index_2d(clusters, i*num_exposures*length_exp+j*length_exp)[0])\n",
    "        (values,counts) = np.unique(cluster_num,return_counts=True)\n",
    "        true += np.max(counts)/np.sum(counts)\n",
    "    true/=num_classes\n",
    "    return true"
   ]
  },
  {
   "cell_type": "code",
   "execution_count": 145,
   "metadata": {},
   "outputs": [
    {
     "name": "stdout",
     "output_type": "stream",
     "text": [
      "0.5833333333333334\n",
      "0.6333333333333333\n",
      "0.6\n",
      "0.55\n",
      "0.5500000000000002\n",
      "0.55\n",
      "0.6166666666666666\n",
      "0.5166666666666668\n",
      "0.6166666666666666\n",
      "0.6166666666666667\n",
      "0.5333333333333334\n",
      "0.55\n",
      "0.5666666666666667\n",
      "0.5333333333333334\n",
      "0.5333333333333334\n",
      "0.5999999999999999\n",
      "0.6333333333333332\n",
      "0.5833333333333333\n",
      "0.6166666666666666\n",
      "0.5833333333333333\n",
      "0.6000000000000001\n",
      "0.5666666666666667\n",
      "0.6333333333333332\n",
      "0.6499999999999998\n",
      "0.5000000000000001\n",
      "0.5666666666666667\n",
      "0.5833333333333333\n",
      "0.6166666666666667\n",
      "0.5666666666666667\n",
      "0.5499999999999999\n",
      "0.5999999999999999\n",
      "0.6333333333333332\n",
      "0.6\n",
      "0.6166666666666667\n",
      "0.5833333333333334\n",
      "0.5666666666666667\n",
      "0.5833333333333333\n",
      "0.5833333333333333\n",
      "0.6\n",
      "0.6499999999999998\n",
      "0.5999999999999999\n",
      "0.6666666666666666\n",
      "0.6166666666666666\n",
      "0.6\n",
      "0.6\n",
      "0.6666666666666665\n",
      "0.5666666666666667\n",
      "0.6333333333333332\n",
      "0.5833333333333334\n",
      "0.5833333333333333\n"
     ]
    }
   ],
   "source": [
    "for i in range(50):\n",
    "    print(find_acc(new_dict[i],100,3,20))"
   ]
  },
  {
   "cell_type": "code",
   "execution_count": 97,
   "metadata": {},
   "outputs": [],
   "source": [
    "!rm -rf toys_data_sample/09*"
   ]
  },
  {
   "cell_type": "code",
   "execution_count": 18,
   "metadata": {},
   "outputs": [],
   "source": [
    "!cd toys_data_exposure_labelled/"
   ]
  },
  {
   "cell_type": "code",
   "execution_count": 41,
   "metadata": {},
   "outputs": [
    {
     "name": "stdout",
     "output_type": "stream",
     "text": [
      "1                           \u001b[0m\u001b[01;31mmnist_png.zip\u001b[0m\n",
      "clustering.py               \u001b[01;34mmnist_small\u001b[0m/\n",
      "CODE_OF_CONDUCT.md          \u001b[01;34mmodels\u001b[0m/\n",
      "CONTRIBUTING.md             nohup.out\n",
      "cop_kmeans_clustering.txt   \u001b[01;34m__pycache__\u001b[0m/\n",
      "copkmeans.txt               README.md\n",
      "create_data.ipynb           sift_dbscan.ipynb\n",
      "create_data-sift.ipynb      \u001b[01;34mtoys_data\u001b[0m/\n",
      "\u001b[01;32mdownload_model.sh\u001b[0m*          toys_data_experiment_250.txt\n",
      "eval_linear.py              toys_data_experiment_exposure_same_cluster.txt\n",
      "\u001b[01;32meval_linear.sh\u001b[0m*             toys_data_experiment.txt\n",
      "eval_retrieval.py           \u001b[01;34mtoys_data_exposure_labelled\u001b[0m/\n",
      "\u001b[01;32meval_retrieval.sh\u001b[0m*          \u001b[01;34mtoys_data_mean\u001b[0m/\n",
      "\u001b[01;32meval_voc_classif_all.sh\u001b[0m*    toys_data_mean_experiment.txt\n",
      "\u001b[01;32meval_voc_classif_fc6_8.sh\u001b[0m*  \u001b[01;34mtoys_data_sample\u001b[0m/\n",
      "eval_voc_classif.py         \u001b[01;34mtoys_data_sift\u001b[0m/\n",
      "\u001b[01;32meval_voc_classif.sh\u001b[0m*        \u001b[01;34mtoys_data_small\u001b[0m/\n",
      "__init__.py                 \u001b[01;31mtoys_data_small.zip\u001b[0m\n",
      "LICENSE                     \u001b[01;31mtoys_data.zip\u001b[0m\n",
      "main.py                     Untitled.ipynb\n",
      "\u001b[01;32mmain.sh\u001b[0m*                    util.py\n",
      "mnist_clustering.txt        \u001b[01;34mvisu\u001b[0m/\n",
      "\u001b[01;34mmnist_png\u001b[0m/\n"
     ]
    }
   ],
   "source": [
    "ls"
   ]
  },
  {
   "cell_type": "code",
   "execution_count": 20,
   "metadata": {},
   "outputs": [],
   "source": [
    "import os\n",
    "x = 0\n",
    "for i in range(600):\n",
    "    x = len(os.listdir(\"toys_data_exposure_labelled/\"+'{0}'.format(str(i).zfill(3))))\n",
    "    if x!=100:\n",
    "        print (i)"
   ]
  },
  {
   "cell_type": "code",
   "execution_count": 21,
   "metadata": {},
   "outputs": [
    {
     "name": "stdout",
     "output_type": "stream",
     "text": [
      "  File \"main.py\", line 282\n",
      "    target = target.cuda(async=True)\n",
      "                             ^\n",
      "SyntaxError: invalid syntax\n"
     ]
    }
   ],
   "source": [
    "!bash main.sh"
   ]
  },
  {
   "cell_type": "code",
   "execution_count": 17,
   "metadata": {},
   "outputs": [
    {
     "name": "stdout",
     "output_type": "stream",
     "text": [
      "/home/skhare31/deepcluster/toys_data_sample/002\n"
     ]
    }
   ],
   "source": [
    "cd ../002"
   ]
  },
  {
   "cell_type": "code",
   "execution_count": null,
   "metadata": {},
   "outputs": [],
   "source": []
  }
 ],
 "metadata": {
  "kernelspec": {
   "display_name": "Python 3",
   "language": "python",
   "name": "python3"
  },
  "language_info": {
   "codemirror_mode": {
    "name": "ipython",
    "version": 3
   },
   "file_extension": ".py",
   "mimetype": "text/x-python",
   "name": "python",
   "nbconvert_exporter": "python",
   "pygments_lexer": "ipython3",
   "version": "3.7.4"
  }
 },
 "nbformat": 4,
 "nbformat_minor": 4
}
