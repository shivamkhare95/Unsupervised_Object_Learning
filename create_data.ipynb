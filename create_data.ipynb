{
 "cells": [
  {
   "cell_type": "code",
   "execution_count": 2,
   "metadata": {},
   "outputs": [],
   "source": [
    "import numpy as np\n",
    "import cv2\n",
    "import os\n",
    "import matplotlib.pyplot as plt\n",
    "import tqdm"
   ]
  },
  {
   "cell_type": "code",
   "execution_count": 3,
   "metadata": {},
   "outputs": [],
   "source": [
    "datapath_in= '/home/skhare31/deepcluster/mnist_png/training'\n",
    "datapath_out= '/home/skhare31/deepcluster/mnist_small/'"
   ]
  },
  {
   "cell_type": "code",
   "execution_count": 4,
   "metadata": {},
   "outputs": [],
   "source": [
    "models = os.listdir(datapath_in)"
   ]
  },
  {
   "cell_type": "code",
   "execution_count": 5,
   "metadata": {},
   "outputs": [
    {
     "name": "stderr",
     "output_type": "stream",
     "text": [
      "100%|██████████| 10/10 [00:00<00:00, 14.06it/s]\n"
     ]
    }
   ],
   "source": [
    "model_number = 0\n",
    "for model in tqdm.tqdm(models, position=0, leave=True):\n",
    "#     box_path = os.path.join(datapath_in,model,str(i),'bboxes.npy')\n",
    "#     bboxes = np.load(box_path)\n",
    "    save_path = os.path.join(datapath_out, model)\n",
    "    os.makedirs(save_path, exist_ok=True)\n",
    "    frames = os.listdir(os.path.join(datapath_in,model))\n",
    "    for frame in range(100):\n",
    "        img_path = os.path.join(datapath_in, model, frames[frame])\n",
    "        img = cv2.imread(img_path)\n",
    "#         img = img[:,:,[2,1,0]]\n",
    "#         bbox = bboxes[frame]\n",
    "#         img = img[bbox[2]:bbox[3], bbox[0]:bbox[1]]\n",
    "        img = cv2.resize(img,(224,224))\n",
    "        cv2.imwrite(os.path.join(save_path,('%02d' % frame)+\".png\"), img)\n",
    "    model_number+=1"
   ]
  },
  {
   "cell_type": "code",
   "execution_count": 21,
   "metadata": {},
   "outputs": [
    {
     "name": "stdout",
     "output_type": "stream",
     "text": [
      "100\n"
     ]
    }
   ],
   "source": [
    "!ls -1 mnist_small/9/| wc -l"
   ]
  },
  {
   "cell_type": "code",
   "execution_count": null,
   "metadata": {},
   "outputs": [],
   "source": []
  }
 ],
 "metadata": {
  "kernelspec": {
   "display_name": "Python 3",
   "language": "python",
   "name": "python3"
  },
  "language_info": {
   "codemirror_mode": {
    "name": "ipython",
    "version": 3
   },
   "file_extension": ".py",
   "mimetype": "text/x-python",
   "name": "python",
   "nbconvert_exporter": "python",
   "pygments_lexer": "ipython3",
   "version": "3.5.6"
  }
 },
 "nbformat": 4,
 "nbformat_minor": 2
}
